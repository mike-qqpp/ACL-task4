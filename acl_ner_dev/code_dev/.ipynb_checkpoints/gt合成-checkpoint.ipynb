{
 "cells": [
  {
   "cell_type": "code",
   "execution_count": 1,
   "id": "0f8310b7-12c4-4ef4-bc11-dd3c99de3b9b",
   "metadata": {},
   "outputs": [],
   "source": [
    "from tqdm import tqdm\n",
    "import json\n",
    "import os"
   ]
  },
  {
   "cell_type": "code",
   "execution_count": 9,
   "id": "971b852b-2426-4462-9bd5-804ff28a232a",
   "metadata": {},
   "outputs": [
    {
     "name": "stdout",
     "output_type": "stream",
     "text": [
      "0 Human_behavior_all_examples.json\n",
      "1 Internet_all_examples.json\n",
      "23\n",
      "23\n"
     ]
    }
   ],
   "source": [
    "path = '../data_dev/'\n",
    "\n",
    "data_lst = []\n",
    "\n",
    "file_lst = os.listdir(path)\n",
    "file_lst = [f for f in file_lst if '.json' in f]\n",
    "\n",
    "for i in range(len(file_lst)):\n",
    "    file_i = file_lst[i]\n",
    "    print(i, file_i)\n",
    "    with open('{}{}'.format(path, file_i), 'r', encoding='utf-8') as file:  # 使用 'utf-8' 编码打开文件\n",
    "        data_idx = json.load(file)  # 将 JSON 文件内容加载为 Python 对象  \n",
    "        data_lst = data_lst + data_idx\n",
    "        \n",
    "data_lst = data_lst[:]\n",
    "\n",
    "print(len(data_lst))\n",
    "\n",
    "res = {}\n",
    "for i in range(len(data_lst)):\n",
    "    data_ = data_lst[i]\n",
    "    res[i] = data_\n",
    "print(len(res))\n",
    "\n",
    "with open('../gt_dev/gt_dev.json', 'w', encoding='utf-8') as f:\n",
    "    # 确保指定ensure_ascii为False以支持非ASCII字符\n",
    "    json.dump(res, f, ensure_ascii=False, indent=4)"
   ]
  },
  {
   "cell_type": "code",
   "execution_count": null,
   "id": "913c3304-77c4-4bd1-a17c-b8fc92f9070a",
   "metadata": {},
   "outputs": [],
   "source": []
  },
  {
   "cell_type": "code",
   "execution_count": null,
   "id": "6545de6a-3d39-415c-9b73-36a950e06fe8",
   "metadata": {},
   "outputs": [],
   "source": []
  },
  {
   "cell_type": "code",
   "execution_count": null,
   "id": "f5679e63-e715-449b-943f-e57a54c553f6",
   "metadata": {},
   "outputs": [],
   "source": []
  },
  {
   "cell_type": "code",
   "execution_count": null,
   "id": "43a4ac49-b8cb-4c80-b167-ad71cd2c3082",
   "metadata": {},
   "outputs": [],
   "source": []
  },
  {
   "cell_type": "code",
   "execution_count": 8,
   "id": "30f0026c-ff7d-43c0-b3d6-f7bd6fd7f183",
   "metadata": {},
   "outputs": [
    {
     "name": "stderr",
     "output_type": "stream",
     "text": [
      "100%|██████████| 3/3 [00:00<00:00, 1111.86it/s]\n"
     ]
    },
    {
     "name": "stdout",
     "output_type": "stream",
     "text": [
      "15\n"
     ]
    },
    {
     "name": "stderr",
     "output_type": "stream",
     "text": [
      "100%|██████████| 15/15 [00:00<00:00, 146312.93it/s]\n"
     ]
    },
    {
     "name": "stdout",
     "output_type": "stream",
     "text": [
      "len is :  15\n",
      "finished wrrite data to -> o3-mini v12\n"
     ]
    },
    {
     "name": "stderr",
     "output_type": "stream",
     "text": [
      "100%|██████████| 3/3 [00:00<00:00, 1084.27it/s]\n"
     ]
    },
    {
     "name": "stdout",
     "output_type": "stream",
     "text": [
      "15\n"
     ]
    },
    {
     "name": "stderr",
     "output_type": "stream",
     "text": [
      "100%|██████████| 15/15 [00:00<00:00, 125327.81it/s]\n"
     ]
    },
    {
     "name": "stdout",
     "output_type": "stream",
     "text": [
      "len is :  15\n",
      "finished wrrite data to -> gemini-2.0-flash v12\n"
     ]
    },
    {
     "name": "stderr",
     "output_type": "stream",
     "text": [
      "100%|██████████| 3/3 [00:00<00:00, 1154.82it/s]\n"
     ]
    },
    {
     "name": "stdout",
     "output_type": "stream",
     "text": [
      "15\n"
     ]
    },
    {
     "name": "stderr",
     "output_type": "stream",
     "text": [
      "100%|██████████| 15/15 [00:00<00:00, 139191.50it/s]\n"
     ]
    },
    {
     "name": "stdout",
     "output_type": "stream",
     "text": [
      "len is :  15\n",
      "finished wrrite data to -> deepseek-v3-250324 v12\n"
     ]
    },
    {
     "name": "stderr",
     "output_type": "stream",
     "text": [
      "100%|██████████| 3/3 [00:00<00:00, 1263.98it/s]\n"
     ]
    },
    {
     "name": "stdout",
     "output_type": "stream",
     "text": [
      "15\n"
     ]
    },
    {
     "name": "stderr",
     "output_type": "stream",
     "text": [
      "100%|██████████| 15/15 [00:00<00:00, 143313.35it/s]\n"
     ]
    },
    {
     "name": "stdout",
     "output_type": "stream",
     "text": [
      "len is :  15\n",
      "finished wrrite data to -> o3-mini v21\n"
     ]
    },
    {
     "name": "stderr",
     "output_type": "stream",
     "text": [
      "100%|██████████| 3/3 [00:00<00:00, 958.84it/s]\n"
     ]
    },
    {
     "name": "stdout",
     "output_type": "stream",
     "text": [
      "15\n"
     ]
    },
    {
     "name": "stderr",
     "output_type": "stream",
     "text": [
      "100%|██████████| 15/15 [00:00<00:00, 162150.93it/s]\n"
     ]
    },
    {
     "name": "stdout",
     "output_type": "stream",
     "text": [
      "len is :  15\n",
      "finished wrrite data to -> gemini-2.0-flash v21\n"
     ]
    },
    {
     "name": "stderr",
     "output_type": "stream",
     "text": [
      "100%|██████████| 3/3 [00:00<00:00, 16.60it/s]\n"
     ]
    },
    {
     "name": "stdout",
     "output_type": "stream",
     "text": [
      "15\n"
     ]
    },
    {
     "name": "stderr",
     "output_type": "stream",
     "text": [
      "100%|██████████| 15/15 [00:00<00:00, 137970.53it/s]\n"
     ]
    },
    {
     "name": "stdout",
     "output_type": "stream",
     "text": [
      "len is :  15\n",
      "finished wrrite data to -> deepseek-v3-250324 v21\n"
     ]
    },
    {
     "name": "stderr",
     "output_type": "stream",
     "text": [
      "100%|██████████| 3/3 [00:00<00:00, 982.66it/s]\n"
     ]
    },
    {
     "name": "stdout",
     "output_type": "stream",
     "text": [
      "15\n"
     ]
    },
    {
     "name": "stderr",
     "output_type": "stream",
     "text": [
      "100%|██████████| 15/15 [00:00<00:00, 158474.96it/s]\n"
     ]
    },
    {
     "name": "stdout",
     "output_type": "stream",
     "text": [
      "len is :  15\n",
      "finished wrrite data to -> o3-mini v22\n"
     ]
    },
    {
     "name": "stderr",
     "output_type": "stream",
     "text": [
      "100%|██████████| 3/3 [00:00<00:00, 889.38it/s]\n"
     ]
    },
    {
     "name": "stdout",
     "output_type": "stream",
     "text": [
      "15\n"
     ]
    },
    {
     "name": "stderr",
     "output_type": "stream",
     "text": [
      "100%|██████████| 15/15 [00:00<00:00, 141064.04it/s]\n"
     ]
    },
    {
     "name": "stdout",
     "output_type": "stream",
     "text": [
      "len is :  15\n",
      "finished wrrite data to -> gemini-2.0-flash v22\n"
     ]
    },
    {
     "name": "stderr",
     "output_type": "stream",
     "text": [
      "100%|██████████| 3/3 [00:00<00:00, 44.16it/s]\n"
     ]
    },
    {
     "name": "stdout",
     "output_type": "stream",
     "text": [
      "15\n"
     ]
    },
    {
     "name": "stderr",
     "output_type": "stream",
     "text": [
      "100%|██████████| 15/15 [00:00<00:00, 85019.68it/s]\n"
     ]
    },
    {
     "name": "stdout",
     "output_type": "stream",
     "text": [
      "len is :  15\n",
      "finished wrrite data to -> deepseek-v3-250324 v22\n"
     ]
    }
   ],
   "source": [
    "version_lst = ['v12', 'v21', 'v22']\n",
    "model_lst = ['o3-mini', 'gemini-2.0-flash', 'deepseek-v3-250324']\n",
    "\n",
    "for version in version_lst:\n",
    "    for model in model_lst:\n",
    "        try:\n",
    "            # version = 'v12'\n",
    "            # model = 'o3-mini'\n",
    "            data_lst_bak = []\n",
    "            for i in tqdm(range(5)):\n",
    "                file_path = '../modelmake_data_dev/{}_sd42_{}_{}.json'.format(model, version, i)\n",
    "                with open(file_path, 'r', encoding='utf-8') as file:  # 使用 'utf-8' 编码打开文件\n",
    "                    data = json.load(file)  # 将 JSON 文件内容加载为 Python 对象\n",
    "                data_lst_bak = data_lst_bak + data\n",
    "            \n",
    "            data_lst_part1 = data_lst_bak.copy()\n",
    "            print(len(data_lst_part1), )\n",
    "            \n",
    "            \n",
    "            data_lst_all = data_lst_part1 #+ data_lst_part2\n",
    "            desired_order = ['domain', 'title', 'doc', 'entities', 'triples', 'label_set', 'entity_label_set']\n",
    "            \n",
    "            output = {}\n",
    "            for j in tqdm(range(len(data_lst_all)) ):\n",
    "                data_ = data_lst_all[j]\n",
    "                # 使用 sorted() 函数对字典进行排序\n",
    "                sorted_data = {key: data_[key] for key in desired_order if key in data_}\n",
    "                output[j] = sorted_data\n",
    "            print('len is : ', len(output))\n",
    "            \n",
    "            \n",
    "            with open('../res_dev/{}_{}.json'.format(model, version), 'w', encoding='utf-8') as f:\n",
    "                # 确保指定ensure_ascii为False以支持非ASCII字符\n",
    "                json.dump(output, f, ensure_ascii=False, indent=4)\n",
    "            print('finished wrrite data to ->',model, version)\n",
    "        except:\n",
    "            print('no file of ->',model, version)"
   ]
  },
  {
   "cell_type": "code",
   "execution_count": null,
   "id": "8b5625e5-7738-4498-ad63-c41a9d1f0bd5",
   "metadata": {},
   "outputs": [],
   "source": []
  }
 ],
 "metadata": {
  "kernelspec": {
   "display_name": "Python 3 (ipykernel)",
   "language": "python",
   "name": "python3"
  },
  "language_info": {
   "codemirror_mode": {
    "name": "ipython",
    "version": 3
   },
   "file_extension": ".py",
   "mimetype": "text/x-python",
   "name": "python",
   "nbconvert_exporter": "python",
   "pygments_lexer": "ipython3",
   "version": "3.10.8"
  }
 },
 "nbformat": 4,
 "nbformat_minor": 5
}
